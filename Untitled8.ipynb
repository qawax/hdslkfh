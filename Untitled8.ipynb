{
  "nbformat": 4,
  "nbformat_minor": 0,
  "metadata": {
    "colab": {
      "provenance": []
    },
    "kernelspec": {
      "name": "python3",
      "display_name": "Python 3"
    },
    "language_info": {
      "name": "python"
    }
  },
  "cells": [
    {
      "cell_type": "code",
      "execution_count": 11,
      "metadata": {
        "colab": {
          "base_uri": "https://localhost:8080/"
        },
        "id": "SQ0yU1Q79EUL",
        "outputId": "2ef4ece1-a517-4f38-d88f-8dd5cb6355ac"
      },
      "outputs": [
        {
          "output_type": "stream",
          "name": "stdout",
          "text": [
            "<class 'dict'>\n",
            "<class 'str'>\n",
            "list[{'name': '黃楚翔'}, 'B1205013']\n"
          ]
        }
      ],
      "source": [
        "a={\"name\":\"黃楚翔\"}\n",
        "b=\"B1205013\"\n",
        "print(type(a))\n",
        "print(type(b))\n",
        "c=list[a,b]\n",
        "print(c)"
      ]
    }
  ]
}